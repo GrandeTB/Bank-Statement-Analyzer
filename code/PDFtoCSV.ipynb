{
 "cells": [
  {
   "cell_type": "code",
   "execution_count": 5,
   "id": "f23e20fe",
   "metadata": {},
   "outputs": [
    {
     "name": "stdout",
     "output_type": "stream",
     "text": [
      "✅ CSV file exported: C:\\Users\\basti\\Desktop\\Bank_analysis\\data\\Mai2025_final.csv\n",
      "✅ CSV file exported: C:\\Users\\basti\\Desktop\\Bank_analysis\\data\\Juin2025_final.csv\n"
     ]
    }
   ],
   "source": [
    "import pdfplumber\n",
    "import pandas as pd\n",
    "import re\n",
    "\n",
    "def extract_operations_from_pdf(pdf_path, output_csv_path, year):\n",
    "    lines = []\n",
    "\n",
    "    # Extract all lines that contain transaction-like patterns\n",
    "    with pdfplumber.open(pdf_path) as pdf:\n",
    "        for page in pdf.pages:\n",
    "            text = page.extract_text()\n",
    "            if text:\n",
    "                for line in text.split('\\n'):\n",
    "                    # Match lines starting with something like: 06.05 07.05 Card ...\n",
    "                    if re.match(r\"\\d{2}\\.\\d{2}\\s+\\d{2}\\.\\d{2}\", line.strip()):\n",
    "                        lines.append(line.strip())\n",
    "\n",
    "    # Clean and structure the extracted lines\n",
    "    data = []\n",
    "    for line in lines:\n",
    "        parts = line.split()\n",
    "        if len(parts) >= 5:\n",
    "            date_op = parts[0]\n",
    "            date_val = parts[1]\n",
    "\n",
    "            # Last element = amount\n",
    "            amount_str = parts[-1].replace(\",\", \".\").replace(\"€\", \"\")\n",
    "            try:\n",
    "                amount = float(amount_str)\n",
    "            except ValueError:\n",
    "                amount = None\n",
    "\n",
    "            # Description = everything between the dates and the amount\n",
    "            description = \" \".join(parts[2:-1])\n",
    "            data.append({\n",
    "                \"date\": f\"{date_val}.{year}\",\n",
    "                \"description\": description,\n",
    "                \"amount\": -amount if amount else None  # treat all as debit for now\n",
    "            })\n",
    "\n",
    "    # Convert to DataFrame\n",
    "    df = pd.DataFrame(data)\n",
    "\n",
    "    # Convert date column to datetime\n",
    "    df[\"date\"] = pd.to_datetime(df[\"date\"], format=\"%d.%m.%Y\", errors=\"coerce\")\n",
    "\n",
    "    # Drop rows with missing or invalid dates or amounts\n",
    "    df = df.dropna(subset=[\"date\", \"amount\"])\n",
    "\n",
    "    # Export to CSV\n",
    "    df.to_csv(output_csv_path, index=False, encoding=\"utf-8-sig\")\n",
    "    print(f\"✅ CSV file exported: {output_csv_path}\")\n",
    "\n",
    "\n",
    "# === Run manually for two PDFs ===\n",
    "if __name__ == \"__main__\":\n",
    "    extract_operations_from_pdf(\n",
    "        pdf_path=r\"C:\\Users\\basti\\Desktop\\Bank_analysis\\data\\Mai2025.pdf\",\n",
    "        output_csv_path=r\"C:\\Users\\basti\\Desktop\\Bank_analysis\\data\\Mai2025_final.csv\",\n",
    "        year=2025\n",
    "    )\n",
    "\n",
    "    extract_operations_from_pdf(\n",
    "        pdf_path=r\"C:\\Users\\basti\\Desktop\\Bank_analysis\\data\\Juin2025.pdf\",\n",
    "        output_csv_path=r\"C:\\Users\\basti\\Desktop\\Bank_analysis\\data\\Juin2025_final.csv\",\n",
    "        year=2025\n",
    "    )\n"
   ]
  }
 ],
 "metadata": {
  "kernelspec": {
   "display_name": "Python 3",
   "language": "python",
   "name": "python3"
  },
  "language_info": {
   "codemirror_mode": {
    "name": "ipython",
    "version": 3
   },
   "file_extension": ".py",
   "mimetype": "text/x-python",
   "name": "python",
   "nbconvert_exporter": "python",
   "pygments_lexer": "ipython3",
   "version": "3.10.12"
  }
 },
 "nbformat": 4,
 "nbformat_minor": 5
}
