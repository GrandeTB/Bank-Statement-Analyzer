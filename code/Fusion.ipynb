{
 "cells": [
  {
   "cell_type": "code",
   "execution_count": 1,
   "id": "e8a559ec",
   "metadata": {},
   "outputs": [
    {
     "name": "stdout",
     "output_type": "stream",
     "text": [
      "✅ Fichier fusionné exporté : C:\\Users\\basti\\Desktop\\Bank_analysis\\data\\Transactions2025.csv\n"
     ]
    }
   ],
   "source": [
    "import pandas as pd\n",
    "import os\n",
    "from pathlib import Path\n",
    "\n",
    "# Dossier contenant les fichiers\n",
    "dossier = r\"C:\\Users\\basti\\Desktop\\Bank_analysis\\data\"\n",
    "\n",
    "# Cherche tous les fichiers CSV avec le suffixe \"_final.csv\"\n",
    "fichiers = [f for f in os.listdir(dossier) if f.endswith(\"_final.csv\")]\n",
    "\n",
    "# Liste pour stocker les DataFrames\n",
    "dataframes = []\n",
    "\n",
    "for fichier in fichiers:\n",
    "    chemin = os.path.join(dossier, fichier)\n",
    "    df = pd.read_csv(chemin)\n",
    "\n",
    "    # Extraire le mois depuis le nom du fichier\n",
    "    nom = Path(fichier).stem  # ex: \"Avril2025_final\"\n",
    "    mois_str = nom.replace(\"_final\", \"\")  # ex: \"Avril2025\"\n",
    "\n",
    "    df[\"mois\"] = mois_str\n",
    "    dataframes.append(df)\n",
    "\n",
    "# Fusion de tous les mois\n",
    "df_fusion = pd.concat(dataframes, ignore_index=True)\n",
    "\n",
    "# Export du fichier unique\n",
    "output_path = os.path.join(dossier, \"Transactions2025.csv\")\n",
    "df_fusion.to_csv(output_path, index=False, encoding=\"utf-8-sig\")\n",
    "\n",
    "print(f\"✅ Fichier fusionné exporté : {output_path}\")\n"
   ]
  }
 ],
 "metadata": {
  "kernelspec": {
   "display_name": "Python 3",
   "language": "python",
   "name": "python3"
  },
  "language_info": {
   "codemirror_mode": {
    "name": "ipython",
    "version": 3
   },
   "file_extension": ".py",
   "mimetype": "text/x-python",
   "name": "python",
   "nbconvert_exporter": "python",
   "pygments_lexer": "ipython3",
   "version": "3.10.12"
  }
 },
 "nbformat": 4,
 "nbformat_minor": 5
}
